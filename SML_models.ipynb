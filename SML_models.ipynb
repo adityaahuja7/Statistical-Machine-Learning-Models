{
  "nbformat": 4,
  "nbformat_minor": 0,
  "metadata": {
    "colab": {
      "name": "SML_models.ipynb",
      "provenance": [],
      "collapsed_sections": [
        "taX9-aq1_I55",
        "spvzeIFuAOjM",
        "gebGBd9peHkv",
        "nat6QHFgHkTx"
      ],
      "authorship_tag": "ABX9TyMgpsM6sglogRwaK8htRJSD",
      "include_colab_link": true
    },
    "kernelspec": {
      "name": "python3",
      "display_name": "Python 3"
    },
    "language_info": {
      "name": "python"
    }
  },
  "cells": [
    {
      "cell_type": "markdown",
      "metadata": {
        "id": "view-in-github",
        "colab_type": "text"
      },
      "source": [
        "<a href=\"https://colab.research.google.com/github/adityaahuja7/Statistical-Machine-Learning-Models/blob/main/SML_models.ipynb\" target=\"_parent\"><img src=\"https://colab.research.google.com/assets/colab-badge.svg\" alt=\"Open In Colab\"/></a>"
      ]
    },
    {
      "cell_type": "markdown",
      "source": [
        "# **Model-1**"
      ],
      "metadata": {
        "id": "taX9-aq1_I55"
      }
    },
    {
      "cell_type": "code",
      "execution_count": null,
      "metadata": {
        "id": "xonwuvOf3YtF",
        "colab": {
          "base_uri": "https://localhost:8080/"
        },
        "outputId": "c6d08437-84c1-4e77-e70a-342e20b3055d"
      },
      "outputs": [
        {
          "output_type": "stream",
          "name": "stdout",
          "text": [
            "Downloading data from https://storage.googleapis.com/tensorflow/tf-keras-datasets/mnist.npz\n",
            "11493376/11490434 [==============================] - 0s 0us/step\n",
            "11501568/11490434 [==============================] - 0s 0us/step\n"
          ]
        }
      ],
      "source": [
        "import numpy as np\n",
        "from tensorflow import keras\n",
        "\n",
        "(x_train, y_train), (x_test, y_test) = keras.datasets.mnist.load_data()\n"
      ]
    },
    {
      "cell_type": "code",
      "source": [
        "\n",
        "x_train = x_train.astype(\"float32\") / 255\n",
        "x_test = x_test.astype(\"float32\") / 255\n",
        "x_train.resize(60000,28*28)\n",
        "x_test.resize(10000,28*28)\n",
        "\n",
        "\n",
        "from sklearn.tree import DecisionTreeRegressor\n"
      ],
      "metadata": {
        "id": "_wzK4fjnjyP8"
      },
      "execution_count": null,
      "outputs": []
    },
    {
      "cell_type": "code",
      "source": [
        "from sklearn.metrics import accuracy_score\n",
        "import matplotlib.pyplot as plt\n",
        "\n",
        "train_accuracy =[] \n",
        "trees=[]\n",
        "\n",
        "def GradientBoosting(X,test_X,Y,test_Y,n,lrn,ite):\n",
        "    preds = np.full(n,np.mean(Y))\n",
        "    for i in range(ite):\n",
        "      res = Y-preds\n",
        "      cur = DecisionTreeRegressor(max_depth=1)\n",
        "      cur.fit(X,res)\n",
        "      train_pred = cur.predict(X)\n",
        "      preds += lrn*train_pred\n",
        "      train_accuracy.append(accuracy_score(preds.astype(int),Y))\n",
        "      trees.append(cur)\n",
        "\n",
        "n = 60000\n",
        "lrn = 0.1\n",
        "ite = 5\n",
        "GradientBoosting(x_train,x_test,y_train,y_test,n,lrn,ite)\n",
        "\n",
        "\n"
      ],
      "metadata": {
        "id": "RXMbsFQzvHvc"
      },
      "execution_count": null,
      "outputs": []
    },
    {
      "cell_type": "code",
      "source": [
        "itrs = [i for i in range(1,ite+1)]\n",
        "plt.plot(itrs,train_accuracy)\n",
        "plt.show()"
      ],
      "metadata": {
        "id": "UwexNKkZ5L9R",
        "colab": {
          "base_uri": "https://localhost:8080/",
          "height": 265
        },
        "outputId": "7840561c-792a-4d73-cf9a-c1fb75f0f437"
      },
      "execution_count": null,
      "outputs": [
        {
          "output_type": "display_data",
          "data": {
            "text/plain": [
              "<Figure size 432x288 with 1 Axes>"
            ],
            "image/png": "[encoded data removed]"
          },
          "metadata": {
            "needs_background": "light"
          }
        }
      ]
    },
    {
      "cell_type": "code",
      "source": [
        "test_accuracy = []\n",
        "test_preds = np.full(10000,np.mean(y_train))\n",
        "for i in range(ite):\n",
        "  curpred = trees[i].predict(x_test)\n",
        "  test_preds+= lrn*curpred\n",
        "  test_accuracy.append(accuracy_score(test_preds.astype(int),y_test))\n",
        "\n",
        "plt.plot([i for i in range(1,ite+1)],test_accuracy)\n",
        "plt.show()\n",
        "print(\"FINAL TEST ACCURACY:\",test_accuracy[-1])\n",
        "\n",
        "  \n"
      ],
      "metadata": {
        "id": "rFi4CSyK7SSQ",
        "colab": {
          "base_uri": "https://localhost:8080/",
          "height": 283
        },
        "outputId": "852599e4-271a-4c61-e622-e451fa82b427"
      },
      "execution_count": null,
      "outputs": [
        {
          "output_type": "display_data",
          "data": {
            "text/plain": [
              "<Figure size 432x288 with 1 Axes>"
            ],
            "image/png": "[encoded data removed]"
          },
          "metadata": {
            "needs_background": "light"
          }
        },
        {
          "output_type": "stream",
          "name": "stdout",
          "text": [
            "FINAL TEST ACCURACY: 0.3248\n"
          ]
        }
      ]
    },
    {
      "cell_type": "markdown",
      "source": [
        "# **Model-2**"
      ],
      "metadata": {
        "id": "spvzeIFuAOjM"
      }
    },
    {
      "cell_type": "code",
      "source": [
        "import numpy as np\n",
        "from tensorflow import keras\n",
        "import matplotlib.pyplot as plt\n",
        "from keras.models import Sequential\n",
        "from keras.layers import Dense, Activation\n",
        "from keras import initializers\n",
        "from keras import optimizers\n",
        "from matplotlib import pyplot\n",
        "from keras.layers import Dropout\n",
        "from keras.models import load_model\n",
        "from tensorflow.keras.utils import to_categorical\n",
        "from keras.layers import BatchNormalization\n",
        "from keras.models import load_model\n",
        "\n",
        "from keras.callbacks import ModelCheckpoint\n",
        "from keras.callbacks import EarlyStopping\n"
      ],
      "metadata": {
        "id": "8RL1ooDbAWu_"
      },
      "execution_count": null,
      "outputs": []
    },
    {
      "cell_type": "code",
      "source": [
        "(train_images, train_labels), (test_imagesall, test_labelsall) = keras.datasets.fashion_mnist.load_data()\n",
        "\n",
        "\n",
        "\n",
        "val_images = test_imagesall[0:500,:,:]\n",
        "val_labels = test_labelsall[0:500]\n",
        "test_images = test_imagesall[500:,:,:]\n",
        "test_labels = test_labelsall[500:]\n",
        "\n",
        "train_images = (train_images / 255) - 0.5\n",
        "test_images = (test_images / 255) - 0.5\n",
        "val_images = (val_images / 255) - 0.5\n",
        "\n",
        "train_images = train_images.reshape((-1, 784))\n",
        "test_images = test_images.reshape((-1, 784))\n",
        "val_images = val_images.reshape((-1, 784))\n",
        "\n",
        "model = Sequential()\n",
        "model.add(Dense(64,input_dim = 784, trainable=True,activation='relu', use_bias=True, \n",
        "                kernel_initializer=initializers.he_normal(seed=None)))\n",
        "model.add(Dropout(0.5))\n",
        "\n",
        "\n",
        "model.add(Dense(64, use_bias=False))\n",
        "model.add(BatchNormalization())\n",
        "model.add(Activation(\"relu\"))\n",
        "\n",
        "\n",
        "model.add(Dense(10, trainable=True, activation='softmax'))\n",
        "\n",
        "sgd = keras.optimizers.SGD(learning_rate=0.01, momentum=0.9)\n",
        "\n",
        "model.compile(\n",
        "  optimizer=sgd,\n",
        "  loss='categorical_crossentropy',\n",
        "  metrics=['accuracy'],\n",
        ")\n",
        "\n",
        "model.summary()\n",
        "\n",
        "\n",
        "\n",
        "\n"
      ],
      "metadata": {
        "id": "PeOomh5cA-Ar",
        "colab": {
          "base_uri": "https://localhost:8080/"
        },
        "outputId": "f9b7040c-6771-42e7-f6ae-8e7f2b4a78c1"
      },
      "execution_count": null,
      "outputs": [
        {
          "output_type": "stream",
          "name": "stdout",
          "text": [
            "Model: \"sequential\"\n",
            "_________________________________________________________________\n",
            " Layer (type)                Output Shape              Param #   \n",
            "=================================================================\n",
            " dense (Dense)               (None, 64)                50240     \n",
            "                                                                 \n",
            " dropout (Dropout)           (None, 64)                0         \n",
            "                                                                 \n",
            " dense_1 (Dense)             (None, 64)                4096      \n",
            "                                                                 \n",
            " batch_normalization (BatchN  (None, 64)               256       \n",
            " ormalization)                                                   \n",
            "                                                                 \n",
            " activation (Activation)     (None, 64)                0         \n",
            "                                                                 \n",
            " dense_2 (Dense)             (None, 10)                650       \n",
            "                                                                 \n",
            "=================================================================\n",
            "Total params: 55,242\n",
            "Trainable params: 55,114\n",
            "Non-trainable params: 128\n",
            "_________________________________________________________________\n"
          ]
        }
      ]
    },
    {
      "cell_type": "code",
      "source": [
        "model.summary()"
      ],
      "metadata": {
        "colab": {
          "base_uri": "https://localhost:8080/"
        },
        "id": "Sz-KKCPgdf6j",
        "outputId": "97978068-05c5-4bf3-c835-e25bec921eee"
      },
      "execution_count": null,
      "outputs": [
        {
          "output_type": "stream",
          "name": "stdout",
          "text": [
            "Model: \"sequential\"\n",
            "_________________________________________________________________\n",
            " Layer (type)                Output Shape              Param #   \n",
            "=================================================================\n",
            " dense (Dense)               (None, 64)                50240     \n",
            "                                                                 \n",
            " dropout (Dropout)           (None, 64)                0         \n",
            "                                                                 \n",
            " dense_1 (Dense)             (None, 64)                4096      \n",
            "                                                                 \n",
            " batch_normalization (BatchN  (None, 64)               256       \n",
            " ormalization)                                                   \n",
            "                                                                 \n",
            " activation (Activation)     (None, 64)                0         \n",
            "                                                                 \n",
            " dense_2 (Dense)             (None, 10)                650       \n",
            "                                                                 \n",
            "=================================================================\n",
            "Total params: 55,242\n",
            "Trainable params: 55,114\n",
            "Non-trainable params: 128\n",
            "_________________________________________________________________\n"
          ]
        }
      ]
    },
    {
      "cell_type": "code",
      "source": [
        "es = EarlyStopping(monitor='val_loss', mode='min', verbose=1, patience = 5)\n",
        "mc = ModelCheckpoint('best_model.h5', monitor='val_accuracy', mode='max', \n",
        "                     verbose=1, save_best_only=True)\n",
        "\n",
        "History = model.fit(  #Batch Size = 512\n",
        "  train_images,\n",
        "  to_categorical(train_labels),\n",
        "  validation_data=(val_images, to_categorical(val_labels)),  \n",
        "  epochs=30,\n",
        "  batch_size=512,\n",
        "  shuffle = True,\n",
        "  callbacks=[es,mc]\n",
        ")"
      ],
      "metadata": {
        "colab": {
          "base_uri": "https://localhost:8080/"
        },
        "id": "rngDuukB4TEv",
        "outputId": "b6f91814-c8ab-40c5-8685-30a51b2bfce9"
      },
      "execution_count": null,
      "outputs": [
        {
          "output_type": "stream",
          "name": "stdout",
          "text": [
            "Epoch 1/30\n",
            "116/118 [============================>.] - ETA: 0s - loss: 1.2396 - accuracy: 0.5816\n",
            "Epoch 1: val_accuracy improved from -inf to 0.78000, saving model to best_model.h5\n",
            "118/118 [==============================] - 2s 8ms/step - loss: 1.2358 - accuracy: 0.5829 - val_loss: 0.7639 - val_accuracy: 0.7800\n",
            "Epoch 2/30\n",
            "116/118 [============================>.] - ETA: 0s - loss: 0.7545 - accuracy: 0.7371\n",
            "Epoch 2: val_accuracy improved from 0.78000 to 0.81800, saving model to best_model.h5\n",
            "118/118 [==============================] - 1s 7ms/step - loss: 0.7540 - accuracy: 0.7375 - val_loss: 0.5593 - val_accuracy: 0.8180\n",
            "Epoch 3/30\n",
            "117/118 [============================>.] - ETA: 0s - loss: 0.6547 - accuracy: 0.7704\n",
            "Epoch 3: val_accuracy improved from 0.81800 to 0.83600, saving model to best_model.h5\n",
            "118/118 [==============================] - 1s 7ms/step - loss: 0.6546 - accuracy: 0.7706 - val_loss: 0.4818 - val_accuracy: 0.8360\n",
            "Epoch 4/30\n",
            "116/118 [============================>.] - ETA: 0s - loss: 0.6067 - accuracy: 0.7865\n",
            "Epoch 4: val_accuracy improved from 0.83600 to 0.84600, saving model to best_model.h5\n",
            "118/118 [==============================] - 1s 9ms/step - loss: 0.6066 - accuracy: 0.7864 - val_loss: 0.4541 - val_accuracy: 0.8460\n",
            "Epoch 5/30\n",
            "115/118 [============================>.] - ETA: 0s - loss: 0.5700 - accuracy: 0.7976\n",
            "Epoch 5: val_accuracy improved from 0.84600 to 0.86000, saving model to best_model.h5\n",
            "118/118 [==============================] - 1s 12ms/step - loss: 0.5697 - accuracy: 0.7977 - val_loss: 0.4191 - val_accuracy: 0.8600\n",
            "Epoch 6/30\n",
            "114/118 [===========================>..] - ETA: 0s - loss: 0.5523 - accuracy: 0.8037\n",
            "Epoch 6: val_accuracy improved from 0.86000 to 0.87000, saving model to best_model.h5\n",
            "118/118 [==============================] - 1s 11ms/step - loss: 0.5516 - accuracy: 0.8037 - val_loss: 0.4064 - val_accuracy: 0.8700\n",
            "Epoch 7/30\n",
            "116/118 [============================>.] - ETA: 0s - loss: 0.5317 - accuracy: 0.8106\n",
            "Epoch 7: val_accuracy did not improve from 0.87000\n",
            "118/118 [==============================] - 1s 11ms/step - loss: 0.5316 - accuracy: 0.8106 - val_loss: 0.3964 - val_accuracy: 0.8680\n",
            "Epoch 8/30\n",
            "110/118 [==========================>...] - ETA: 0s - loss: 0.5180 - accuracy: 0.8157\n",
            "Epoch 8: val_accuracy did not improve from 0.87000\n",
            "118/118 [==============================] - 1s 11ms/step - loss: 0.5163 - accuracy: 0.8164 - val_loss: 0.4070 - val_accuracy: 0.8540\n",
            "Epoch 9/30\n",
            "110/118 [==========================>...] - ETA: 0s - loss: 0.5065 - accuracy: 0.8200\n",
            "Epoch 9: val_accuracy did not improve from 0.87000\n",
            "118/118 [==============================] - 1s 6ms/step - loss: 0.5058 - accuracy: 0.8204 - val_loss: 0.3877 - val_accuracy: 0.8700\n",
            "Epoch 10/30\n",
            "118/118 [==============================] - ETA: 0s - loss: 0.4949 - accuracy: 0.8242\n",
            "Epoch 10: val_accuracy improved from 0.87000 to 0.87400, saving model to best_model.h5\n",
            "118/118 [==============================] - 1s 7ms/step - loss: 0.4949 - accuracy: 0.8242 - val_loss: 0.3721 - val_accuracy: 0.8740\n",
            "Epoch 11/30\n",
            "112/118 [===========================>..] - ETA: 0s - loss: 0.4867 - accuracy: 0.8253\n",
            "Epoch 11: val_accuracy improved from 0.87400 to 0.87600, saving model to best_model.h5\n",
            "118/118 [==============================] - 1s 7ms/step - loss: 0.4870 - accuracy: 0.8256 - val_loss: 0.3714 - val_accuracy: 0.8760\n",
            "Epoch 12/30\n",
            "111/118 [===========================>..] - ETA: 0s - loss: 0.4798 - accuracy: 0.8274\n",
            "Epoch 12: val_accuracy did not improve from 0.87600\n",
            "118/118 [==============================] - 1s 7ms/step - loss: 0.4803 - accuracy: 0.8270 - val_loss: 0.3909 - val_accuracy: 0.8620\n",
            "Epoch 13/30\n",
            "115/118 [============================>.] - ETA: 0s - loss: 0.4701 - accuracy: 0.8313\n",
            "Epoch 13: val_accuracy did not improve from 0.87600\n",
            "118/118 [==============================] - 1s 7ms/step - loss: 0.4699 - accuracy: 0.8314 - val_loss: 0.3647 - val_accuracy: 0.8740\n",
            "Epoch 14/30\n",
            "115/118 [============================>.] - ETA: 0s - loss: 0.4626 - accuracy: 0.8326\n",
            "Epoch 14: val_accuracy did not improve from 0.87600\n",
            "118/118 [==============================] - 1s 7ms/step - loss: 0.4628 - accuracy: 0.8325 - val_loss: 0.3683 - val_accuracy: 0.8660\n",
            "Epoch 15/30\n",
            "118/118 [==============================] - ETA: 0s - loss: 0.4621 - accuracy: 0.8337\n",
            "Epoch 15: val_accuracy did not improve from 0.87600\n",
            "118/118 [==============================] - 1s 7ms/step - loss: 0.4621 - accuracy: 0.8337 - val_loss: 0.3522 - val_accuracy: 0.8700\n",
            "Epoch 16/30\n",
            "111/118 [===========================>..] - ETA: 0s - loss: 0.4516 - accuracy: 0.8366\n",
            "Epoch 16: val_accuracy did not improve from 0.87600\n",
            "118/118 [==============================] - 1s 6ms/step - loss: 0.4519 - accuracy: 0.8365 - val_loss: 0.3580 - val_accuracy: 0.8720\n",
            "Epoch 17/30\n",
            "110/118 [==========================>...] - ETA: 0s - loss: 0.4484 - accuracy: 0.8384\n",
            "Epoch 17: val_accuracy did not improve from 0.87600\n",
            "118/118 [==============================] - 1s 6ms/step - loss: 0.4497 - accuracy: 0.8384 - val_loss: 0.3680 - val_accuracy: 0.8720\n",
            "Epoch 18/30\n",
            "111/118 [===========================>..] - ETA: 0s - loss: 0.4473 - accuracy: 0.8381\n",
            "Epoch 18: val_accuracy improved from 0.87600 to 0.88400, saving model to best_model.h5\n",
            "118/118 [==============================] - 1s 7ms/step - loss: 0.4461 - accuracy: 0.8384 - val_loss: 0.3605 - val_accuracy: 0.8840\n",
            "Epoch 19/30\n",
            "114/118 [===========================>..] - ETA: 0s - loss: 0.4418 - accuracy: 0.8409\n",
            "Epoch 19: val_accuracy did not improve from 0.88400\n",
            "118/118 [==============================] - 1s 6ms/step - loss: 0.4418 - accuracy: 0.8410 - val_loss: 0.3516 - val_accuracy: 0.8720\n",
            "Epoch 20/30\n",
            "110/118 [==========================>...] - ETA: 0s - loss: 0.4377 - accuracy: 0.8422\n",
            "Epoch 20: val_accuracy did not improve from 0.88400\n",
            "118/118 [==============================] - 1s 6ms/step - loss: 0.4385 - accuracy: 0.8421 - val_loss: 0.3566 - val_accuracy: 0.8720\n",
            "Epoch 21/30\n",
            "113/118 [===========================>..] - ETA: 0s - loss: 0.4332 - accuracy: 0.8451\n",
            "Epoch 21: val_accuracy did not improve from 0.88400\n",
            "118/118 [==============================] - 1s 6ms/step - loss: 0.4332 - accuracy: 0.8450 - val_loss: 0.3513 - val_accuracy: 0.8760\n",
            "Epoch 22/30\n",
            "117/118 [============================>.] - ETA: 0s - loss: 0.4280 - accuracy: 0.8471\n",
            "Epoch 22: val_accuracy did not improve from 0.88400\n",
            "118/118 [==============================] - 1s 9ms/step - loss: 0.4281 - accuracy: 0.8471 - val_loss: 0.3526 - val_accuracy: 0.8720\n",
            "Epoch 23/30\n",
            "117/118 [============================>.] - ETA: 0s - loss: 0.4292 - accuracy: 0.8444\n",
            "Epoch 23: val_accuracy did not improve from 0.88400\n",
            "118/118 [==============================] - 1s 11ms/step - loss: 0.4292 - accuracy: 0.8445 - val_loss: 0.3501 - val_accuracy: 0.8680\n",
            "Epoch 24/30\n",
            "116/118 [============================>.] - ETA: 0s - loss: 0.4281 - accuracy: 0.8449\n",
            "Epoch 24: val_accuracy did not improve from 0.88400\n",
            "118/118 [==============================] - 1s 10ms/step - loss: 0.4283 - accuracy: 0.8448 - val_loss: 0.3541 - val_accuracy: 0.8780\n",
            "Epoch 25/30\n",
            "115/118 [============================>.] - ETA: 0s - loss: 0.4231 - accuracy: 0.8463\n",
            "Epoch 25: val_accuracy did not improve from 0.88400\n",
            "118/118 [==============================] - 1s 10ms/step - loss: 0.4237 - accuracy: 0.8461 - val_loss: 0.3482 - val_accuracy: 0.8700\n",
            "Epoch 26/30\n",
            "115/118 [============================>.] - ETA: 0s - loss: 0.4168 - accuracy: 0.8487\n",
            "Epoch 26: val_accuracy did not improve from 0.88400\n",
            "118/118 [==============================] - 1s 11ms/step - loss: 0.4172 - accuracy: 0.8486 - val_loss: 0.3452 - val_accuracy: 0.8720\n",
            "Epoch 27/30\n",
            "118/118 [==============================] - ETA: 0s - loss: 0.4170 - accuracy: 0.8490\n",
            "Epoch 27: val_accuracy did not improve from 0.88400\n",
            "118/118 [==============================] - 1s 11ms/step - loss: 0.4170 - accuracy: 0.8490 - val_loss: 0.3551 - val_accuracy: 0.8720\n",
            "Epoch 28/30\n",
            "114/118 [===========================>..] - ETA: 0s - loss: 0.4162 - accuracy: 0.8491\n",
            "Epoch 28: val_accuracy did not improve from 0.88400\n",
            "118/118 [==============================] - 1s 12ms/step - loss: 0.4165 - accuracy: 0.8490 - val_loss: 0.3465 - val_accuracy: 0.8700\n",
            "Epoch 29/30\n",
            "115/118 [============================>.] - ETA: 0s - loss: 0.4115 - accuracy: 0.8510\n",
            "Epoch 29: val_accuracy did not improve from 0.88400\n",
            "118/118 [==============================] - 1s 10ms/step - loss: 0.4115 - accuracy: 0.8508 - val_loss: 0.3450 - val_accuracy: 0.8720\n",
            "Epoch 30/30\n",
            "116/118 [============================>.] - ETA: 0s - loss: 0.4092 - accuracy: 0.8506\n",
            "Epoch 30: val_accuracy did not improve from 0.88400\n",
            "118/118 [==============================] - 1s 11ms/step - loss: 0.4095 - accuracy: 0.8503 - val_loss: 0.3401 - val_accuracy: 0.8740\n"
          ]
        }
      ]
    },
    {
      "cell_type": "code",
      "source": [
        "model = load_model('best_model.h5')\n",
        "score = model.evaluate(\n",
        "  test_images,\n",
        "  to_categorical(test_labels)\n",
        ")"
      ],
      "metadata": {
        "colab": {
          "base_uri": "https://localhost:8080/"
        },
        "id": "8CHc98NE9R0M",
        "outputId": "4c6242cb-f092-42de-8b04-146c0fe857c2"
      },
      "execution_count": null,
      "outputs": [
        {
          "output_type": "stream",
          "name": "stdout",
          "text": [
            "297/297 [==============================] - 1s 2ms/step - loss: 0.3790 - accuracy: 0.8631\n"
          ]
        }
      ]
    },
    {
      "cell_type": "code",
      "source": [
        "pyplot.plot(History.history['loss'], label='train')\n",
        "pyplot.legend()\n",
        "pyplot.show()"
      ],
      "metadata": {
        "id": "n3FWTM8G-9-e",
        "colab": {
          "base_uri": "https://localhost:8080/",
          "height": 265
        },
        "outputId": "4b4f6fc2-c4fa-4395-e4d2-cfff6727e69f"
      },
      "execution_count": null,
      "outputs": [
        {
          "output_type": "display_data",
          "data": {
            "text/plain": [
              "<Figure size 432x288 with 1 Axes>"
            ],
            "image/png": "[encoded data removed]"
          },
          "metadata": {
            "needs_background": "light"
          }
        }
      ]
    },
    {
      "cell_type": "code",
      "source": [
        "preds = np.argmax(model.predict(test_images), axis=1)\n",
        "print(preds)\n",
        "print(test_labels)\n",
        "\n",
        "from sklearn.metrics import confusion_matrix\n",
        "\n",
        "cm = confusion_matrix(test_labels,preds)\n",
        "for i in range(0,10):\n",
        "  print(\"Class accuracy for class-\"+str(i)+\":\",cm[i][i]/list(test_labels).count(0))"
      ],
      "metadata": {
        "id": "t5NlSZpgoPsM",
        "colab": {
          "base_uri": "https://localhost:8080/"
        },
        "outputId": "200e023c-32d5-4fca-f90d-b307a360e0d2"
      },
      "execution_count": null,
      "outputs": [
        {
          "output_type": "stream",
          "name": "stdout",
          "text": [
            "[2 0 5 ... 8 1 5]\n",
            "[2 0 5 ... 8 1 5]\n",
            "Class accuracy for class-0: 0.6962962962962963\n",
            "Class accuracy for class-1: 0.9587301587301588\n",
            "Class accuracy for class-2: 0.7904761904761904\n",
            "Class accuracy for class-3: 0.9164021164021164\n",
            "Class accuracy for class-4: 0.8031746031746032\n",
            "Class accuracy for class-5: 0.9470899470899471\n",
            "Class accuracy for class-6: 0.6285714285714286\n",
            "Class accuracy for class-7: 0.9386243386243386\n",
            "Class accuracy for class-8: 0.9862433862433863\n",
            "Class accuracy for class-9: 0.9576719576719577\n"
          ]
        }
      ]
    },
    {
      "cell_type": "markdown",
      "source": [
        "# **Model-3**\n"
      ],
      "metadata": {
        "id": "gebGBd9peHkv"
      }
    },
    {
      "cell_type": "code",
      "source": [
        "import numpy as np\n",
        "from tensorflow import keras\n",
        "import matplotlib.pyplot as plt\n",
        "from keras.models import Sequential\n",
        "from keras.layers import Dense, Activation\n",
        "from keras import initializers\n",
        "from keras import optimizers\n",
        "from matplotlib import pyplot\n",
        "from keras.layers import Dropout\n",
        "from keras.models import load_model\n",
        "from tensorflow.keras.utils import to_categorical\n",
        "from keras.layers import BatchNormalization\n",
        "from keras.models import load_model\n",
        "\n",
        "from keras.callbacks import ModelCheckpoint\n",
        "from keras.callbacks import EarlyStopping"
      ],
      "metadata": {
        "id": "i3qSAPwheQrU"
      },
      "execution_count": null,
      "outputs": []
    },
    {
      "cell_type": "code",
      "source": [
        "from sklearn import metrics\n",
        "(x_train, y_train), (x_test, y_test) = keras.datasets.mnist.load_data()\n",
        "\n",
        "x_train = x_train.astype(\"float32\") / 255\n",
        "x_test = x_test.astype(\"float32\") / 255\n",
        "x_train.resize(60000,28*28)\n",
        "x_test.resize(10000,28*28)\n",
        "\n",
        "from sklearn.model_selection import train_test_split\n",
        "train_X,valid_X,train_ground,valid_ground = train_test_split(x_train,\n",
        "                                                             x_train, \n",
        "                                                             train_size=0.8, \n",
        "                                                             random_state=13)\n",
        "\n",
        "\n",
        "\n",
        "\n",
        "input = keras.Input(shape=(784,))\n",
        "x = keras.layers.Dense(512,activation='relu')(input)\n",
        "x = keras.layers.Dense(128,activation=\"relu\")(x)\n",
        "latent = keras.layers.Dense(64,activation=\"relu\")(x)\n",
        "x = keras.layers.Dense(128,activation=\"relu\")(latent)\n",
        "x = keras.layers.Dense(512,activation=\"relu\")(x)\n",
        "decoded = keras.layers.Dense(784,activation=\"relu\")(x)\n",
        "\n",
        "autoencoder = keras.Model(input, decoded)\n",
        "\n",
        "\n",
        "opt = keras.optimizers.Adam(learning_rate=0.01)\n",
        "\n",
        "\n",
        "autoencoder.compile(loss='mean_squared_error',optimizer=opt)\n",
        "#Mean-Squared-Error loss has been used since we want to train the model to encode the \n",
        "#images and then reconstruct the orignal images with minimum total loss in pixel values.\n",
        "autoencoder.summary()\n",
        "\n",
        "#PARAMATERS \n",
        "#\n",
        "\n"
      ],
      "metadata": {
        "colab": {
          "base_uri": "https://localhost:8080/"
        },
        "id": "sGPS2RvsifI3",
        "outputId": "7692a4dd-20d9-4911-cbff-523d917e3fa4"
      },
      "execution_count": null,
      "outputs": [
        {
          "output_type": "stream",
          "name": "stdout",
          "text": [
            "Model: \"model_58\"\n",
            "_________________________________________________________________\n",
            " Layer (type)                Output Shape              Param #   \n",
            "=================================================================\n",
            " input_39 (InputLayer)       [(None, 784)]             0         \n",
            "                                                                 \n",
            " dense_213 (Dense)           (None, 512)               401920    \n",
            "                                                                 \n",
            " dense_214 (Dense)           (None, 128)               65664     \n",
            "                                                                 \n",
            " dense_215 (Dense)           (None, 64)                8256      \n",
            "                                                                 \n",
            " dense_216 (Dense)           (None, 128)               8320      \n",
            "                                                                 \n",
            " dense_217 (Dense)           (None, 512)               66048     \n",
            "                                                                 \n",
            " dense_218 (Dense)           (None, 784)               402192    \n",
            "                                                                 \n",
            "=================================================================\n",
            "Total params: 952,400\n",
            "Trainable params: 952,400\n",
            "Non-trainable params: 0\n",
            "_________________________________________________________________\n"
          ]
        }
      ]
    },
    {
      "cell_type": "code",
      "source": [
        "History = autoencoder.fit(train_X, train_ground,\n",
        "                epochs=10,\n",
        "                batch_size=128,\n",
        "                verbose=1,\n",
        "                shuffle=True,\n",
        "                validation_data=(valid_X, valid_ground))"
      ],
      "metadata": {
        "colab": {
          "base_uri": "https://localhost:8080/"
        },
        "id": "bkHR14fWw_aS",
        "outputId": "a16a0dbf-c981-428d-c661-9105512db828"
      },
      "execution_count": null,
      "outputs": [
        {
          "output_type": "stream",
          "name": "stdout",
          "text": [
            "Epoch 1/10\n",
            "375/375 [==============================] - 9s 22ms/step - loss: 0.0818 - val_loss: 0.0296\n",
            "Epoch 2/10\n",
            "375/375 [==============================] - 8s 20ms/step - loss: 0.0270 - val_loss: 0.0248\n",
            "Epoch 3/10\n",
            "375/375 [==============================] - 8s 20ms/step - loss: 0.0236 - val_loss: 0.0231\n",
            "Epoch 4/10\n",
            "375/375 [==============================] - 8s 20ms/step - loss: 0.0220 - val_loss: 0.0216\n",
            "Epoch 5/10\n",
            "375/375 [==============================] - 8s 20ms/step - loss: 0.0212 - val_loss: 0.0215\n",
            "Epoch 6/10\n",
            "375/375 [==============================] - 7s 20ms/step - loss: 0.0207 - val_loss: 0.0207\n",
            "Epoch 7/10\n",
            "375/375 [==============================] - 7s 20ms/step - loss: 0.0205 - val_loss: 0.0204\n",
            "Epoch 8/10\n",
            "375/375 [==============================] - 7s 20ms/step - loss: 0.0202 - val_loss: 0.0202\n",
            "Epoch 9/10\n",
            "375/375 [==============================] - 8s 20ms/step - loss: 0.0200 - val_loss: 0.0199\n",
            "Epoch 10/10\n",
            "375/375 [==============================] - 8s 20ms/step - loss: 0.0198 - val_loss: 0.0200\n"
          ]
        }
      ]
    },
    {
      "cell_type": "code",
      "source": [
        "pred = autoencoder.predict(x_test.reshape(-1,784))\n",
        "pred = pred.reshape(-1,28,28)\n",
        "print(x_test.shape)\n",
        "plt.figure(figsize=(20, 4))\n",
        "print(\"Test Images\")\n",
        "for i in range(10):\n",
        "    plt.subplot(2, 10, i+1)\n",
        "    plt.imshow(x_test[i].reshape(28,28), cmap='gray')\n",
        "    curr_lbl = y_test[i]\n",
        "    #plt.title(\"(Label: \" + str(label_dict[curr_lbl]) + \")\")\n",
        "plt.show()    \n",
        "plt.figure(figsize=(20, 4))\n",
        "print(\"Reconstruction of Test Images\")\n",
        "for i in range(10):\n",
        "    plt.subplot(2, 10, i+1)\n",
        "    plt.imshow(pred[i].reshape(28,28), cmap='gray')  \n",
        "plt.show()"
      ],
      "metadata": {
        "colab": {
          "base_uri": "https://localhost:8080/",
          "height": 328
        },
        "id": "kRGogZ6Ck734",
        "outputId": "1cad1ca1-02d4-4dac-9af7-7eee65892cef"
      },
      "execution_count": null,
      "outputs": [
        {
          "output_type": "stream",
          "name": "stdout",
          "text": [
            "(10000, 784)\n",
            "Test Images\n"
          ]
        },
        {
          "output_type": "display_data",
          "data": {
            "text/plain": [
              "<Figure size 1440x288 with 10 Axes>"
            ],
            "image/png": "[encoded data removed]"
          },
          "metadata": {
            "needs_background": "light"
          }
        },
        {
          "output_type": "stream",
          "name": "stdout",
          "text": [
            "Reconstruction of Test Images\n"
          ]
        },
        {
          "output_type": "display_data",
          "data": {
            "text/plain": [
              "<Figure size 1440x288 with 10 Axes>"
            ],
            "image/png": "[encoded data removed]"
          },
          "metadata": {
            "needs_background": "light"
          }
        }
      ]
    },
    {
      "cell_type": "code",
      "source": [
        "pyplot.plot(History.history['loss'], label='train')\n",
        "pyplot.legend()\n",
        "pyplot.show()"
      ],
      "metadata": {
        "colab": {
          "base_uri": "https://localhost:8080/",
          "height": 265
        },
        "id": "y2B7UZcqEg_Z",
        "outputId": "3d14b9bd-2c55-4479-a093-9c7ab5c8d86c"
      },
      "execution_count": null,
      "outputs": [
        {
          "output_type": "display_data",
          "data": {
            "text/plain": [
              "<Figure size 432x288 with 1 Axes>"
            ],
            "image/png": "[encoded data removed]"
          },
          "metadata": {
            "needs_background": "light"
          }
        }
      ]
    },
    {
      "cell_type": "code",
      "source": [
        "\n",
        "\n",
        "#Removed the decoder and appended 2 more layer to convert to a classification model\n",
        "\n",
        "input = keras.Input(shape=(784,))\n",
        "x = keras.layers.Dense(512,activation='relu')(input)\n",
        "x = keras.layers.Dense(128,activation=\"relu\")(x)\n",
        "latent = keras.layers.Dense(64,activation=\"relu\")(x)\n",
        "x = keras.layers.Dense(32,activation=\"relu\")(latent)\n",
        "output = keras.layers.Dense(10,activation=\"softmax\")(x)\n",
        "final = keras.Model(input,output)\n",
        "final.summary()\n",
        "\n",
        "opt = keras.optimizers.Adam(learning_rate=0.01)\n",
        "\n",
        "final.compile(optimizer=opt,loss='categorical_crossentropy',\n",
        "                    metrics=['accuracy'])"
      ],
      "metadata": {
        "colab": {
          "base_uri": "https://localhost:8080/"
        },
        "id": "HOUytA0KEg6_",
        "outputId": "0870801d-ccc5-4973-c937-5c2b9bc41909"
      },
      "execution_count": null,
      "outputs": [
        {
          "output_type": "stream",
          "name": "stdout",
          "text": [
            "Model: \"model_59\"\n",
            "_________________________________________________________________\n",
            " Layer (type)                Output Shape              Param #   \n",
            "=================================================================\n",
            " input_40 (InputLayer)       [(None, 784)]             0         \n",
            "                                                                 \n",
            " dense_219 (Dense)           (None, 512)               401920    \n",
            "                                                                 \n",
            " dense_220 (Dense)           (None, 128)               65664     \n",
            "                                                                 \n",
            " dense_221 (Dense)           (None, 64)                8256      \n",
            "                                                                 \n",
            " dense_222 (Dense)           (None, 32)                2080      \n",
            "                                                                 \n",
            " dense_223 (Dense)           (None, 10)                330       \n",
            "                                                                 \n",
            "=================================================================\n",
            "Total params: 478,250\n",
            "Trainable params: 478,250\n",
            "Non-trainable params: 0\n",
            "_________________________________________________________________\n"
          ]
        }
      ]
    },
    {
      "cell_type": "code",
      "source": [
        "History = final.fit(x_train,to_categorical(y_train),epochs=10,batch_size=32)"
      ],
      "metadata": {
        "colab": {
          "base_uri": "https://localhost:8080/"
        },
        "id": "OIQiC_riXOb1",
        "outputId": "ea29194d-6401-40fc-fbf7-c0f71bef217f"
      },
      "execution_count": null,
      "outputs": [
        {
          "output_type": "stream",
          "name": "stdout",
          "text": [
            "Epoch 1/10\n",
            "1875/1875 [==============================] - 10s 5ms/step - loss: 0.3113 - accuracy: 0.9147\n",
            "Epoch 2/10\n",
            "1875/1875 [==============================] - 9s 5ms/step - loss: 0.1950 - accuracy: 0.9523\n",
            "Epoch 3/10\n",
            "1875/1875 [==============================] - 9s 5ms/step - loss: 0.1823 - accuracy: 0.9572\n",
            "Epoch 4/10\n",
            "1875/1875 [==============================] - 9s 5ms/step - loss: 0.1645 - accuracy: 0.9623\n",
            "Epoch 5/10\n",
            "1875/1875 [==============================] - 9s 5ms/step - loss: 0.1476 - accuracy: 0.9663\n",
            "Epoch 6/10\n",
            "1875/1875 [==============================] - 9s 5ms/step - loss: 0.1397 - accuracy: 0.9686\n",
            "Epoch 7/10\n",
            "1875/1875 [==============================] - 9s 5ms/step - loss: 0.1359 - accuracy: 0.9692\n",
            "Epoch 8/10\n",
            "1875/1875 [==============================] - 9s 5ms/step - loss: 0.1766 - accuracy: 0.9618\n",
            "Epoch 9/10\n",
            "1875/1875 [==============================] - 9s 5ms/step - loss: 0.1252 - accuracy: 0.9730\n",
            "Epoch 10/10\n",
            "1875/1875 [==============================] - 9s 5ms/step - loss: 0.1478 - accuracy: 0.9668\n"
          ]
        }
      ]
    },
    {
      "cell_type": "code",
      "source": [
        "pyplot.plot(History.history['loss'], label='train')\n",
        "pyplot.legend()\n",
        "pyplot.show()"
      ],
      "metadata": {
        "colab": {
          "base_uri": "https://localhost:8080/",
          "height": 265
        },
        "id": "1Udp9GZNcEme",
        "outputId": "d7c9ed65-cd11-491e-85ac-05cf861b6e1f"
      },
      "execution_count": null,
      "outputs": [
        {
          "output_type": "display_data",
          "data": {
            "text/plain": [
              "<Figure size 432x288 with 1 Axes>"
            ],
            "image/png": "[encoded data removed]"
          },
          "metadata": {
            "needs_background": "light"
          }
        }
      ]
    },
    {
      "cell_type": "code",
      "source": [
        "preds = np.argmax(final.predict(x_test), axis=1)\n",
        "\n",
        "score = final.evaluate(x_test,to_categorical(y_test))\n",
        "print(score)\n",
        "\n",
        "from sklearn.metrics import confusion_matrix\n",
        "\n",
        "cm = confusion_matrix(y_test,preds)\n",
        "for i in range(0,10):\n",
        "  print(\"Class accuracy for class-\"+str(i)+\":\",cm[i][i]/list(y_test).count(i))"
      ],
      "metadata": {
        "colab": {
          "base_uri": "https://localhost:8080/"
        },
        "id": "wKZPzVmOYrah",
        "outputId": "3ba2e620-7502-4284-a869-18f1de9b5b80"
      },
      "execution_count": null,
      "outputs": [
        {
          "output_type": "stream",
          "name": "stdout",
          "text": [
            "313/313 [==============================] - 1s 2ms/step - loss: 0.1864 - accuracy: 0.9599\n",
            "[0.18638330698013306, 0.9599000215530396]\n",
            "Class accuracy for class-0: 0.9826530612244898\n",
            "Class accuracy for class-1: 0.9682819383259912\n",
            "Class accuracy for class-2: 0.9738372093023255\n",
            "Class accuracy for class-3: 0.9643564356435643\n",
            "Class accuracy for class-4: 0.9511201629327902\n",
            "Class accuracy for class-5: 0.9708520179372198\n",
            "Class accuracy for class-6: 0.9728601252609603\n",
            "Class accuracy for class-7: 0.9591439688715954\n",
            "Class accuracy for class-8: 0.9117043121149897\n",
            "Class accuracy for class-9: 0.9435084241823588\n"
          ]
        }
      ]
    },
    {
      "cell_type": "markdown",
      "source": [
        "# **Model-4**"
      ],
      "metadata": {
        "id": "nat6QHFgHkTx"
      }
    },
    {
      "cell_type": "code",
      "source": [
        "import numpy as np\n",
        "from tensorflow import keras\n",
        "from sklearn.tree import DecisionTreeClassifier\n",
        "from sklearn.metrics import confusion_matrix\n",
        "from sklearn.metrics import accuracy_score\n",
        "\n",
        "\n",
        "(x_train, y_train), (x_test, y_test) = keras.datasets.mnist.load_data()\n",
        "\n",
        "x_train = x_train.astype(\"float32\") / 255\n",
        "x_test = x_test.astype(\"float32\") / 255\n",
        "x_train.resize(60000,28*28)\n",
        "x_test.resize(10000,28*28)\n",
        "\n",
        "def BaggingClassifier (Xtrain,Ytrain,Xtest,Ytest,bs):\n",
        "\n",
        "    Classifiers = []\n",
        "\n",
        "    for i in range(bs):\n",
        "      ind = np.random.choice(len(Xtrain),size = len(Xtrain))\n",
        "      Xcurrent = Xtrain[ind]\n",
        "      Ycurrent = Ytrain[ind]\n",
        "      \n",
        "      Tree = DecisionTreeClassifier(max_depth = 4 , max_features = 'sqrt')\n",
        "      Tree.fit(Xcurrent,Ycurrent)\n",
        "      Classifiers.append(Tree)\n",
        "\n",
        "    preds = []\n",
        "\n",
        "    for i in range(bs):\n",
        "      preds.append(Classifiers[i].predict(Xtest))\n",
        "\n",
        "    preds = np.array(preds)\n",
        "\n",
        "    finalpred =[]\n",
        "    #Generating a prediction array\n",
        "    for i in range(10000):\n",
        "      col = preds[:,i]\n",
        "      finalpred.append(np.bincount(col).argmax())\n",
        "\n",
        "    print(accuracy_score(y_test,finalpred))\n",
        "\n",
        "    cm = confusion_matrix(y_test,finalpred)\n",
        "    for i in range(0,10):\n",
        "      print(\"Class accuracy for class-\"+str(i)+\":\",cm[i][i]/list(y_test).count(i))\n",
        "      \n",
        "\n",
        "  \n",
        "BaggingClassifier(x_train,y_train,x_test,y_test,3) #BAG SIZE = 3\n",
        "\n",
        "\n"
      ],
      "metadata": {
        "colab": {
          "base_uri": "https://localhost:8080/"
        },
        "id": "KbTMuv3IHoxK",
        "outputId": "2bd952ce-b600-4b45-e619-e007e0b552f5"
      },
      "execution_count": null,
      "outputs": [
        {
          "output_type": "stream",
          "name": "stdout",
          "text": [
            "0.5707\n",
            "Class accuracy for class-0: 0.8112244897959183\n",
            "Class accuracy for class-1: 0.9480176211453745\n",
            "Class accuracy for class-2: 0.42248062015503873\n",
            "Class accuracy for class-3: 0.6297029702970297\n",
            "Class accuracy for class-4: 0.5835030549898167\n",
            "Class accuracy for class-5: 0.25448430493273544\n",
            "Class accuracy for class-6: 0.46346555323590816\n",
            "Class accuracy for class-7: 0.6517509727626459\n",
            "Class accuracy for class-8: 0.5277207392197125\n",
            "Class accuracy for class-9: 0.3330029732408325\n"
          ]
        }
      ]
    },
    {
      "cell_type": "code",
      "source": [
        ""
      ],
      "metadata": {
        "id": "KkvadR-ANw3M"
      },
      "execution_count": null,
      "outputs": []
    }
  ]
}